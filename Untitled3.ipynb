{
  "nbformat": 4,
  "nbformat_minor": 0,
  "metadata": {
    "colab": {
      "provenance": [],
      "mount_file_id": "1ueP8HDUjRL1tVsgab85djWYlsyJ8APWd",
      "authorship_tag": "ABX9TyMpgeWAv08M2I77njls5t68",
      "include_colab_link": true
    },
    "kernelspec": {
      "name": "python3",
      "display_name": "Python 3"
    },
    "language_info": {
      "name": "python"
    }
  },
  "cells": [
    {
      "cell_type": "markdown",
      "metadata": {
        "id": "view-in-github",
        "colab_type": "text"
      },
      "source": [
        "<a href=\"https://colab.research.google.com/github/sai-chowdary2004/data-science-project-1/blob/main/Untitled3.ipynb\" target=\"_parent\"><img src=\"https://colab.research.google.com/assets/colab-badge.svg\" alt=\"Open In Colab\"/></a>"
      ]
    },
    {
      "cell_type": "code",
      "execution_count": null,
      "metadata": {
        "colab": {
          "base_uri": "https://localhost:8080/"
        },
        "id": "-m1K1LTQVLgy",
        "outputId": "320fcf14-734a-4b1f-f998-41ab5a48683b"
      },
      "outputs": [
        {
          "output_type": "stream",
          "name": "stdout",
          "text": [
            "Mounted at /content/drive\n"
          ]
        }
      ],
      "source": [
        "from google.colab import drive\n",
        "drive.mount('/content/drive')\n",
        "\n",
        "\n"
      ]
    },
    {
      "cell_type": "code",
      "source": [
        "import pandas as pd\n",
        "import numpy as np\n",
        "import matplotlib.pyplot as plt\n",
        "from pandas import read_csv\n",
        "path=\"/content/drive/MyDrive/energy.csv\"\n",
        "electricity=pd.read_csv(path)\n",
        "print(electricity)\n",
        "\n",
        "print(electricity.shape)\n",
        "print(electricity.head(5))\n",
        "print(electricity.tail(5))\n",
        "print(electricity.info())\n",
        "print(electricity.describe())"
      ],
      "metadata": {
        "colab": {
          "base_uri": "https://localhost:8080/"
        },
        "id": "5jDa7k5ucc4t",
        "outputId": "19287748-356c-4571-8e2a-0fcf74b66e3f"
      },
      "execution_count": null,
      "outputs": [
        {
          "output_type": "stream",
          "name": "stdout",
          "text": [
            "          Date        State  Consumption\n",
            "0   01-01-2024    Tamilnadu       347.25\n",
            "1   02-01-2024      Manipur       605.12\n",
            "2   03-01-2024    Telengana       444.63\n",
            "3   04-01-2024  Pondicherry       974.54\n",
            "4   05-01-2024    Tamilnadu       864.02\n",
            "..         ...          ...          ...\n",
            "95  05-04-2024       Kerala       587.30\n",
            "96  06-04-2024           UP       726.21\n",
            "97  07-04-2024       Andhra       305.70\n",
            "98  08-04-2024       Sikkim       257.46\n",
            "99  09-04-2024  Pondicherry       983.95\n",
            "\n",
            "[100 rows x 3 columns]\n",
            "(100, 3)\n",
            "         Date        State  Consumption\n",
            "0  01-01-2024    Tamilnadu       347.25\n",
            "1  02-01-2024      Manipur       605.12\n",
            "2  03-01-2024    Telengana       444.63\n",
            "3  04-01-2024  Pondicherry       974.54\n",
            "4  05-01-2024    Tamilnadu       864.02\n",
            "          Date        State  Consumption\n",
            "95  05-04-2024       Kerala       587.30\n",
            "96  06-04-2024           UP       726.21\n",
            "97  07-04-2024       Andhra       305.70\n",
            "98  08-04-2024       Sikkim       257.46\n",
            "99  09-04-2024  Pondicherry       983.95\n",
            "<class 'pandas.core.frame.DataFrame'>\n",
            "RangeIndex: 100 entries, 0 to 99\n",
            "Data columns (total 3 columns):\n",
            " #   Column       Non-Null Count  Dtype  \n",
            "---  ------       --------------  -----  \n",
            " 0   Date         100 non-null    object \n",
            " 1   State        100 non-null    object \n",
            " 2   Consumption  100 non-null    float64\n",
            "dtypes: float64(1), object(2)\n",
            "memory usage: 2.5+ KB\n",
            "None\n",
            "       Consumption\n",
            "count   100.000000\n",
            "mean    534.090400\n",
            "std     245.341678\n",
            "min     100.470000\n",
            "25%     321.570000\n",
            "50%     517.075000\n",
            "75%     726.215000\n",
            "max     997.970000\n"
          ]
        }
      ]
    },
    {
      "cell_type": "code",
      "source": [
        "print (\"column data\")\n",
        "print(electricity.columns)\n",
        "print(electricity[electricity['State'].str.startswith('M')])\n",
        "print(electricity[electricity['State'].str.endswith('a')])\n",
        "rcb=electricity[electricity['State']=='Andhra']\n",
        "print(len(rcb))"
      ],
      "metadata": {
        "colab": {
          "base_uri": "https://localhost:8080/"
        },
        "id": "LHY52NA8gs0F",
        "outputId": "67d69dd2-2648-49c3-b299-e8b596dfde32"
      },
      "execution_count": null,
      "outputs": [
        {
          "output_type": "stream",
          "name": "stdout",
          "text": [
            "column data\n",
            "Index(['Date', 'State', 'Consumption'], dtype='object')\n",
            "          Date    State  Consumption\n",
            "1   02-01-2024  Manipur       605.12\n",
            "18  19-01-2024  Mizoram       643.98\n",
            "21  22-01-2024  Manipur       948.57\n",
            "22  23-01-2024  Manipur       638.98\n",
            "37  07-02-2024  Manipur       682.92\n",
            "41  11-02-2024  Manipur       248.19\n",
            "44  14-02-2024  Mizoram       723.19\n",
            "60  01-03-2024  Manipur       469.93\n",
            "67  08-03-2024  Manipur       597.60\n",
            "70  11-03-2024  Manipur       432.69\n",
            "80  21-03-2024  Mizoram       726.23\n",
            "          Date      State  Consumption\n",
            "2   03-01-2024  Telengana       444.63\n",
            "5   06-01-2024    Tripura       749.56\n",
            "6   07-01-2024  Telengana       312.39\n",
            "7   08-01-2024  Telengana       330.46\n",
            "9   10-01-2024    Tripura       739.60\n",
            "10  11-01-2024     Andhra       199.80\n",
            "11  12-01-2024  Karnataka       495.40\n",
            "14  15-01-2024  Karnataka       527.83\n",
            "19  20-01-2024     Odisha       585.86\n",
            "20  21-01-2024     Kerala       282.76\n",
            "23  24-01-2024    Tripura       725.31\n",
            "25  26-01-2024     Andhra       661.92\n",
            "27  28-01-2024    Tripura       194.94\n",
            "36  06-02-2024  Karnataka       344.92\n",
            "40  10-02-2024    Tripura       374.30\n",
            "42  12-02-2024     Andhra       580.68\n",
            "45  15-02-2024  Telengana       342.47\n",
            "47  17-02-2024  Telengana       251.46\n",
            "49  19-02-2024  Karnataka       602.29\n",
            "51  21-02-2024     Odisha       158.40\n",
            "55  25-02-2024  Karnataka       741.04\n",
            "56  26-02-2024     Odisha       233.28\n",
            "59  29-02-2024     Kerala       978.95\n",
            "64  05-03-2024     Kerala       712.63\n",
            "78  19-03-2024  Telengana       235.65\n",
            "79  20-03-2024    Tripura       557.38\n",
            "82  23-03-2024     Andhra       393.36\n",
            "83  24-03-2024     Andhra       298.22\n",
            "86  27-03-2024     Odisha       413.80\n",
            "93  03-04-2024  Karnataka       761.69\n",
            "95  05-04-2024     Kerala       587.30\n",
            "97  07-04-2024     Andhra       305.70\n",
            "6\n"
          ]
        }
      ]
    },
    {
      "cell_type": "code",
      "source": [
        "fig2,axes2=plt.subplots(2)\n",
        "state1='up'\n",
        "state2='maharashtra'\n",
        "state3='mizoram'\n",
        "state4='tamilnadu'\n",
        "labels=[state1,state2]\n",
        "state1_total=electricity[electricity['State']==state1]['consumption'].sum()\n",
        "state2_total=electricity[electricity['State']==state2]['consumption'].sum()\n",
        "energy=[state1_total,state2_total]\n",
        "axes2[0].pie(energy,labels=labels,autopct='%1.1f%%')\n",
        "axes2[0].set_title('pie chart')"
      ],
      "metadata": {
        "colab": {
          "base_uri": "https://localhost:8080/",
          "height": 219
        },
        "id": "xHPSH9HBSSNz",
        "outputId": "8328a4af-ff43-41fd-e01c-a5167e564452"
      },
      "execution_count": 6,
      "outputs": [
        {
          "output_type": "error",
          "ename": "NameError",
          "evalue": "name 'plt' is not defined",
          "traceback": [
            "\u001b[0;31m---------------------------------------------------------------------------\u001b[0m",
            "\u001b[0;31mNameError\u001b[0m                                 Traceback (most recent call last)",
            "\u001b[0;32m<ipython-input-6-d3a255f86ad2>\u001b[0m in \u001b[0;36m<cell line: 1>\u001b[0;34m()\u001b[0m\n\u001b[0;32m----> 1\u001b[0;31m \u001b[0mfig2\u001b[0m\u001b[0;34m,\u001b[0m\u001b[0maxes2\u001b[0m\u001b[0;34m=\u001b[0m\u001b[0mplt\u001b[0m\u001b[0;34m.\u001b[0m\u001b[0msubplots\u001b[0m\u001b[0;34m(\u001b[0m\u001b[0;36m2\u001b[0m\u001b[0;34m)\u001b[0m\u001b[0;34m\u001b[0m\u001b[0;34m\u001b[0m\u001b[0m\n\u001b[0m\u001b[1;32m      2\u001b[0m \u001b[0mstate1\u001b[0m\u001b[0;34m=\u001b[0m\u001b[0;34m'up'\u001b[0m\u001b[0;34m\u001b[0m\u001b[0;34m\u001b[0m\u001b[0m\n\u001b[1;32m      3\u001b[0m \u001b[0mstate2\u001b[0m\u001b[0;34m=\u001b[0m\u001b[0;34m'maharashtra'\u001b[0m\u001b[0;34m\u001b[0m\u001b[0;34m\u001b[0m\u001b[0m\n\u001b[1;32m      4\u001b[0m \u001b[0mstate3\u001b[0m\u001b[0;34m=\u001b[0m\u001b[0;34m'mizoram'\u001b[0m\u001b[0;34m\u001b[0m\u001b[0;34m\u001b[0m\u001b[0m\n\u001b[1;32m      5\u001b[0m \u001b[0mstate4\u001b[0m\u001b[0;34m=\u001b[0m\u001b[0;34m'tamilnadu'\u001b[0m\u001b[0;34m\u001b[0m\u001b[0;34m\u001b[0m\u001b[0m\n",
            "\u001b[0;31mNameError\u001b[0m: name 'plt' is not defined"
          ]
        }
      ]
    }
  ]
}